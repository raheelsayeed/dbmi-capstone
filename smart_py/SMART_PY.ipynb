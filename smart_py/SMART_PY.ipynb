{
 "cells": [
  {
   "cell_type": "markdown",
   "metadata": {},
   "source": [
    "## load JSON FHIR Questionnaires and Responses to SMART FHIR Server"
   ]
  },
  {
   "cell_type": "code",
   "execution_count": 390,
   "metadata": {},
   "outputs": [],
   "source": [
    "#import relevant packages\n",
    "from fhirclient import client\n",
    "from fhirclient import server\n",
    "import json\n",
    "import pandas as pd\n",
    "import numpy as np\n",
    "\n",
    "import fhirclient.models.questionnaire as q\n",
    "import fhirclient.models.patient as p\n",
    "import fhirclient.models.humanname as hn\n",
    "import fhirclient.models.questionnaireresponse as qr\n",
    "import fhirclient.models.coding as c\n",
    "\n",
    "#set up smart server\n",
    "smart = server.FHIRServer(None, 'https://r4.smarthealthit.org')"
   ]
  },
  {
   "cell_type": "code",
   "execution_count": 391,
   "metadata": {},
   "outputs": [],
   "source": [
    "#set up useful functions:\n",
    "\n",
    "# pretty print\n",
    "def pp(json_object):\n",
    "    print(json.dumps(json_object, indent = 3))\n",
    "    \n",
    "def savetofile(json_object, filename):\n",
    "    with open(filename, 'w') as outfile:\n",
    "        json.dump(json_object, outfile, indent = 3)"
   ]
  },
  {
   "cell_type": "code",
   "execution_count": 392,
   "metadata": {},
   "outputs": [],
   "source": [
    "#load mh_questionnaire json\n",
    "with open('questionnaires/MHQuestionnaire_withValueSet.json', 'r') as h1:\n",
    "    qjs1 = json.load(h1)\n",
    "mh_questionnaire = q.Questionnaire(qjs1)"
   ]
  },
  {
   "cell_type": "code",
   "execution_count": 393,
   "metadata": {},
   "outputs": [],
   "source": [
    "#load pa_questionnaire json\n",
    "with open('questionnaires/PAQuestionnaire_withValueSet.json', 'r') as h2:\n",
    "    qjs2 = json.load(h2)\n",
    "pa_questionnaire = q.Questionnaire(qjs2)"
   ]
  },
  {
   "cell_type": "code",
   "execution_count": 394,
   "metadata": {},
   "outputs": [
    {
     "name": "stdout",
     "output_type": "stream",
     "text": [
      "661149\n"
     ]
    }
   ],
   "source": [
    "#take loaded mental health json questionnaire and upload to smart server\n",
    "mh_quest_load = q.Questionnaire.create(mh_questionnaire, smart)\n",
    "mh_quest_id = mh_quest_load[\"id\"]\n",
    "print(mh_quest_id)"
   ]
  },
  {
   "cell_type": "code",
   "execution_count": 395,
   "metadata": {},
   "outputs": [
    {
     "name": "stdout",
     "output_type": "stream",
     "text": [
      "661150\n"
     ]
    }
   ],
   "source": [
    "#take loaded physical activity json questionnaire and upload to smart server\n",
    "pa_quest_load = q.Questionnaire.create(pa_questionnaire, smart)\n",
    "pa_quest_id = pa_quest_load[\"id\"]\n",
    "print(pa_quest_id)"
   ]
  },
  {
   "cell_type": "code",
   "execution_count": 396,
   "metadata": {},
   "outputs": [
    {
     "data": {
      "text/plain": [
       "{'id': '661149',\n",
       " 'meta': {'lastUpdated': '2020-11-11T21:07:01.619-05:00', 'versionId': '1'},\n",
       " 'code': [{'code': 'DPQ_J',\n",
       "   'display': 'NHANES Mental Health Depression Questionnaire',\n",
       "   'system': 'https://wwwn.cdc.gov/Nchs/Nhanes/2017-2018/DPQ_J.htm'}],\n",
       " 'date': '2020-02-01T00:00:00.000Z',\n",
       " 'item': [{'answerValueSet': '#Mental-Health-Depression-valueset-1',\n",
       "   'linkId': 'DPQ010',\n",
       "   'text': 'Over the last 2 weeks, how often have you been bothered by the following problems: little interest or pleasure in doing things? Would you say...',\n",
       "   'type': 'integer'},\n",
       "  {'answerValueSet': '#Mental-Health-Depression-valueset-1',\n",
       "   'linkId': 'DPQ020',\n",
       "   'text': '[Over the last 2 weeks, how often have you been bothered by the following problems:] feeling down, depressed, or hopeless?',\n",
       "   'type': 'integer'},\n",
       "  {'answerValueSet': '#Mental-Health-Depression-valueset-1',\n",
       "   'linkId': 'DPQ030',\n",
       "   'text': '[Over the last 2 weeks, how often have you been bothered by the following problems:] trouble falling or staying asleep, or sleeping too much?',\n",
       "   'type': 'integer'},\n",
       "  {'answerValueSet': '#Mental-Health-Depression-valueset-1',\n",
       "   'linkId': 'DPQ040',\n",
       "   'text': '[Over the last 2 weeks, how often have you been bothered by the following problems:] feeling tired or having little energy?',\n",
       "   'type': 'integer'},\n",
       "  {'answerValueSet': '#Mental-Health-Depression-valueset-1',\n",
       "   'linkId': 'DPQ050',\n",
       "   'text': '[Over the last 2 weeks, how often have you been bothered by the following problems:] poor appetite or overeating?',\n",
       "   'type': 'integer'},\n",
       "  {'answerValueSet': '#Mental-Health-Depression-valueset-1',\n",
       "   'linkId': 'DPQ060',\n",
       "   'text': '[Over the last 2 weeks, how often have you been bothered by the following problems:] feeling bad about yourself - or that you are a failure or have let yourself or your family down?',\n",
       "   'type': 'integer'},\n",
       "  {'answerValueSet': '#Mental-Health-Depression-valueset-1',\n",
       "   'linkId': 'DPQ070',\n",
       "   'text': '[Over the last 2 weeks, how often have you been bothered by the following problems:] trouble concentrating on things, such as reading the newspaper or watching TV?',\n",
       "   'type': 'integer'},\n",
       "  {'answerValueSet': '#Mental-Health-Depression-valueset-1',\n",
       "   'linkId': 'DPQ080',\n",
       "   'text': '[Over the last 2 weeks, how often have you been bothered by the following problems:] moving or speaking so slowly that other people could have noticed? Or the opposite - being so fidgety or restless that you have been moving around a lot more than usual?',\n",
       "   'type': 'integer'},\n",
       "  {'answerValueSet': '#Mental-Health-Depression-valueset-1',\n",
       "   'linkId': 'DPQ090',\n",
       "   'text': '[Over the last 2 weeks, how often have you been bothered by the following problems:] Thoughts that you would be better off dead or of hurting yourself in some way?',\n",
       "   'type': 'integer'},\n",
       "  {'answerValueSet': '#Mental-Health-Depression-valueset-2',\n",
       "   'linkId': 'DPQ100',\n",
       "   'text': 'How difficult have these problems made it for you to do your work, take care of things at home, or get along with people?',\n",
       "   'type': 'integer'}],\n",
       " 'status': 'active',\n",
       " 'subjectType': ['Patient'],\n",
       " 'url': 'http://hl7.org/fhir/Questionnaire/f201',\n",
       " 'resourceType': 'Questionnaire'}"
      ]
     },
     "execution_count": 396,
     "metadata": {},
     "output_type": "execute_result"
    }
   ],
   "source": [
    "#pull mental health questionnaire from server and read to test:\n",
    "mh_quest_download = q.Questionnaire.read(mh_quest_id, smart)\n",
    "mh_quest_download.as_json()"
   ]
  },
  {
   "cell_type": "code",
   "execution_count": 397,
   "metadata": {},
   "outputs": [
    {
     "data": {
      "text/plain": [
       "{'id': '661150',\n",
       " 'meta': {'lastUpdated': '2020-11-11T21:07:01.762-05:00', 'versionId': '1'},\n",
       " 'code': [{'code': 'PAQ_J',\n",
       "   'display': 'NHANES Physical Activity Questionnaire',\n",
       "   'system': 'https://wwwn.cdc.gov/Nchs/Nhanes/2017-2018/PAQ_J.htm'}],\n",
       " 'date': '2020-02-01T00:00:00.000Z',\n",
       " 'item': [{'answerValueSet': '#Physical-Activity-valueset-1',\n",
       "   'linkId': 'PAQ605',\n",
       "   'text': \"Next I am going to ask you about the time {you spend/SP spends} doing different types of physical activity in a typical week. Think first about the time {you spend/he spends/she spends} doing work. Think of work as the things that {you have/he has/she has} to do such as paid or unpaid work, household chores, and yard work. Does {your/SP's} work involve vigorous-intensity activity that causes large increases in breathing or heart rate like carrying or lifting heavy loads, digging or construction work for at least 10 minutes continuously?\",\n",
       "   'type': 'integer'},\n",
       "  {'extension': [{'url': 'http://hl7.org/fhir/StructureDefinition/minValue',\n",
       "     'valueInteger': 1},\n",
       "    {'url': 'http://hl7.org/fhir/StructureDefinition/maxValue',\n",
       "     'valueInteger': 7}],\n",
       "   'code': [{'code': 'q610',\n",
       "     'display': 'NHANES Physical Activity Questionnaire q610',\n",
       "     'system': 'https://wwwn.cdc.gov/Nchs/Nhanes/2017-2018/PAQ_J.htm'}],\n",
       "   'linkId': 'PAQ610',\n",
       "   'text': 'In a typical week, on how many days {do you/does SP} do vigorous-intensity activities as part of {your/his/her} work?',\n",
       "   'type': 'integer'},\n",
       "  {'extension': [{'url': 'http://hl7.org/fhir/StructureDefinition/minValue',\n",
       "     'valueInteger': 10},\n",
       "    {'url': 'http://hl7.org/fhir/StructureDefinition/maxValue',\n",
       "     'valueInteger': 840}],\n",
       "   'code': [{'code': 'q615',\n",
       "     'display': 'NHANES Physical Activity Questionnaire q615',\n",
       "     'system': 'https://wwwn.cdc.gov/Nchs/Nhanes/2017-2018/PAQ_J.htm'}],\n",
       "   'linkId': 'PAD615',\n",
       "   'text': 'How much time {do you/does SP} spend doing vigorous-intensity activities at work on a typical day?',\n",
       "   'type': 'integer'},\n",
       "  {'answerValueSet': '#Physical-Activity-valueset-1',\n",
       "   'linkId': 'PAQ620',\n",
       "   'text': \"Does {your/SP's} work involve moderate-intensity activity that causes small increases in breathing or heart rate such as brisk walking or carrying light loads for at least 10 minutes continuously?\",\n",
       "   'type': 'integer'},\n",
       "  {'extension': [{'url': 'http://hl7.org/fhir/StructureDefinition/minValue',\n",
       "     'valueInteger': 1},\n",
       "    {'url': 'http://hl7.org/fhir/StructureDefinition/maxValue',\n",
       "     'valueInteger': 7}],\n",
       "   'code': [{'code': 'q625',\n",
       "     'display': 'NHANES Physical Activity Questionnaire q625',\n",
       "     'system': 'https://wwwn.cdc.gov/Nchs/Nhanes/2017-2018/PAQ_J.htm'}],\n",
       "   'linkId': 'PAQ625',\n",
       "   'text': 'In a typical week, on how many days {do you/does SP} do moderate-intensity activities as part of {your/his/her} work?',\n",
       "   'type': 'integer'},\n",
       "  {'extension': [{'url': 'http://hl7.org/fhir/StructureDefinition/minValue',\n",
       "     'valueInteger': 10},\n",
       "    {'url': 'http://hl7.org/fhir/StructureDefinition/maxValue',\n",
       "     'valueInteger': 840}],\n",
       "   'code': [{'code': 'q630',\n",
       "     'display': 'NHANES Physical Activity Questionnaire q630',\n",
       "     'system': 'https://wwwn.cdc.gov/Nchs/Nhanes/2017-2018/PAQ_J.htm'}],\n",
       "   'linkId': 'PAD630',\n",
       "   'text': 'How much time {do you/does SP} spend doing moderate-intensity activities at work on a typical day?',\n",
       "   'type': 'integer'},\n",
       "  {'answerValueSet': '#Physical-Activity-valueset-1',\n",
       "   'linkId': 'PAQ635',\n",
       "   'text': 'The next questions exclude the physical activity at work that you have already mentioned. Now I would like to ask you about the usual way {you travel/SP travels} to and from places. For example to school, for shopping, to work. In a typical week {do you/does SP} walk or use a bicycle for at least 10 minutes continuously to get to and from places?',\n",
       "   'type': 'integer'},\n",
       "  {'extension': [{'url': 'http://hl7.org/fhir/StructureDefinition/minValue',\n",
       "     'valueInteger': 1},\n",
       "    {'url': 'http://hl7.org/fhir/StructureDefinition/maxValue',\n",
       "     'valueInteger': 7}],\n",
       "   'code': [{'code': 'q640',\n",
       "     'display': 'NHANES Physical Activity Questionnaire q640',\n",
       "     'system': 'https://wwwn.cdc.gov/Nchs/Nhanes/2017-2018/PAQ_J.htm'}],\n",
       "   'linkId': 'PAQ640',\n",
       "   'text': 'In a typical week, on how many days {do you/does SP} walk or bicycle for at least 10 minutes continuously to get to and from places?',\n",
       "   'type': 'integer'},\n",
       "  {'extension': [{'url': 'http://hl7.org/fhir/StructureDefinition/minValue',\n",
       "     'valueInteger': 10},\n",
       "    {'url': 'http://hl7.org/fhir/StructureDefinition/maxValue',\n",
       "     'valueInteger': 660}],\n",
       "   'code': [{'code': 'q645',\n",
       "     'display': 'NHANES Physical Activity Questionnaire q645',\n",
       "     'system': 'https://wwwn.cdc.gov/Nchs/Nhanes/2017-2018/PAQ_J.htm'}],\n",
       "   'linkId': 'PAD645',\n",
       "   'text': 'How much time {do you/does SP} spend walking or bicycling for travel on a typical day?',\n",
       "   'type': 'integer'},\n",
       "  {'answerValueSet': '#Physical-Activity-valueset-1',\n",
       "   'linkId': 'PAQ650',\n",
       "   'text': 'The next questions exclude the work and transport activities that you have already mentioned. Now I would like to ask you about sports, fitness and recreational activities. In a typical week {do you/does SP} do any vigorous-intensity sports, fitness, or recreational activities that cause large increases in breathing or heart rate like running or basketball for at least 10 minutes continuously?',\n",
       "   'type': 'integer'},\n",
       "  {'extension': [{'url': 'http://hl7.org/fhir/StructureDefinition/minValue',\n",
       "     'valueInteger': 1},\n",
       "    {'url': 'http://hl7.org/fhir/StructureDefinition/maxValue',\n",
       "     'valueInteger': 7}],\n",
       "   'code': [{'code': 'q655',\n",
       "     'display': 'NHANES Physical Activity Questionnaire q655',\n",
       "     'system': 'https://wwwn.cdc.gov/Nchs/Nhanes/2017-2018/PAQ_J.htm'}],\n",
       "   'linkId': 'PAQ655',\n",
       "   'text': 'In a typical week, on how many days {do you/does SP} do vigorous-intensity sports, fitness or recreational activities?',\n",
       "   'type': 'integer'},\n",
       "  {'extension': [{'url': 'http://hl7.org/fhir/StructureDefinition/minValue',\n",
       "     'valueInteger': 10},\n",
       "    {'url': 'http://hl7.org/fhir/StructureDefinition/maxValue',\n",
       "     'valueInteger': 480}],\n",
       "   'code': [{'code': 'q660',\n",
       "     'display': 'NHANES Physical Activity Questionnaire q660',\n",
       "     'system': 'https://wwwn.cdc.gov/Nchs/Nhanes/2017-2018/PAQ_J.htm'}],\n",
       "   'linkId': 'PAD660',\n",
       "   'text': 'How much time {do you/does SP} spend doing vigorous-intensity sports, fitness or recreational activities on a typical day?',\n",
       "   'type': 'integer'},\n",
       "  {'answerValueSet': '#Physical-Activity-valueset-1',\n",
       "   'linkId': 'PAQ665',\n",
       "   'text': 'In a typical week {do you/does SP} do any moderate-intensity sports, fitness, or recreational activities that cause a small increase in breathing or heart rate such as brisk walking, bicycling, swimming, or volleyball for at least 10 minutes continuously?',\n",
       "   'type': 'integer'},\n",
       "  {'extension': [{'url': 'http://hl7.org/fhir/StructureDefinition/minValue',\n",
       "     'valueInteger': 1},\n",
       "    {'url': 'http://hl7.org/fhir/StructureDefinition/maxValue',\n",
       "     'valueInteger': 7}],\n",
       "   'code': [{'code': 'q670',\n",
       "     'display': 'NHANES Physical Activity Questionnaire q670',\n",
       "     'system': 'https://wwwn.cdc.gov/Nchs/Nhanes/2017-2018/PAQ_J.htm'}],\n",
       "   'linkId': 'PAQ670',\n",
       "   'text': 'In a typical week, on how many days {do you/does SP} do moderate-intensity sports, fitness or recreational activities?',\n",
       "   'type': 'integer'},\n",
       "  {'extension': [{'url': 'http://hl7.org/fhir/StructureDefinition/minValue',\n",
       "     'valueInteger': 10},\n",
       "    {'url': 'http://hl7.org/fhir/StructureDefinition/maxValue',\n",
       "     'valueInteger': 540}],\n",
       "   'code': [{'code': 'q675',\n",
       "     'display': 'NHANES Physical Activity Questionnaire q675',\n",
       "     'system': 'https://wwwn.cdc.gov/Nchs/Nhanes/2017-2018/PAQ_J.htm'}],\n",
       "   'linkId': 'PAD675',\n",
       "   'text': 'How much time {do you/does SP} spend doing moderate-intensity sports, fitness or recreational activities on a typical day?',\n",
       "   'type': 'integer'},\n",
       "  {'extension': [{'url': 'http://hl7.org/fhir/StructureDefinition/minValue',\n",
       "     'valueInteger': 10},\n",
       "    {'url': 'http://hl7.org/fhir/StructureDefinition/maxValue',\n",
       "     'valueInteger': 1320}],\n",
       "   'code': [{'code': 'q680',\n",
       "     'display': 'NHANES Physical Activity Questionnaire q680',\n",
       "     'system': 'https://wwwn.cdc.gov/Nchs/Nhanes/2017-2018/PAQ_J.htm'}],\n",
       "   'linkId': 'PAD680',\n",
       "   'text': 'The following question is about sitting at school, at home, getting to and from places, or with friends including time spent sitting at a desk, traveling in a car or bus, reading, playing cards, watching television, or using a computer. Do not include time spent sleeping. How much time {do you/does SP} usually spend sitting on a typical day?',\n",
       "   'type': 'integer'}],\n",
       " 'status': 'active',\n",
       " 'subjectType': ['Patient'],\n",
       " 'url': 'http://hl7.org/fhir/Questionnaire/f201',\n",
       " 'resourceType': 'Questionnaire'}"
      ]
     },
     "execution_count": 397,
     "metadata": {},
     "output_type": "execute_result"
    }
   ],
   "source": [
    "#pull physical activity questionnaire from server and read to test:\n",
    "pa_quest_download = q.Questionnaire.read(pa_quest_id, smart)\n",
    "pa_quest_download.as_json()"
   ]
  },
  {
   "cell_type": "code",
   "execution_count": 398,
   "metadata": {},
   "outputs": [],
   "source": [
    "#Add questionnaire responses for NHANES patients:\n",
    "#read in csv with questionnaire response data:\n",
    "pa_data = pd.read_csv('nhanes_data/activity_questionnaire.csv')\n",
    "dpq_data = pd.read_csv('nhanes_data/depression_questionnaire.csv')\n"
   ]
  },
  {
   "cell_type": "code",
   "execution_count": 399,
   "metadata": {},
   "outputs": [
    {
     "name": "stdout",
     "output_type": "stream",
     "text": [
      "    PA-CSV PA-FHIR Questionnaire\n",
      "0   pad615                PAD615\n",
      "1   pad630                PAD630\n",
      "2   pad645                PAD645\n",
      "3   pad660                PAD660\n",
      "4   pad675                PAD675\n",
      "5   pad680                PAD680\n",
      "6   paq605                PAQ605\n",
      "7   paq610                PAQ610\n",
      "8   paq620                PAQ620\n",
      "9   paq625                PAQ625\n",
      "10  paq635                PAQ635\n",
      "11  paq640                PAQ640\n",
      "12  paq650                PAQ650\n",
      "13  paq655                PAQ655\n",
      "14  paq665                PAQ665\n",
      "15  paq670                PAQ670\n"
     ]
    }
   ],
   "source": [
    "# Verify: Questionnaire's linkId should match the linkIds in QuestionnaireResponse when created.\n",
    "# Check if csv is the right one. \n",
    "\n",
    "# Physical Activity CSV and Questionnaire linkIds\n",
    "pa_csv_questionids = sorted(list(pa_data.columns.values)[2:])\n",
    "pa_questionnaire_linkids = sorted([item.linkId for item in pa_quest_download.item])\n",
    "compare_df_pa = pd.DataFrame({'PA-CSV': pa_csv_questionids, 'PA-FHIR Questionnaire': pa_questionnaire_linkids})\n",
    "print(compare_df_pa)\n",
    "\n",
    "# Mental Health CSV and Questionnaire linkIds\n",
    "mh_csv_questionids = sorted(list(dpq_data.columns.values)[2:])\n",
    "mh_questionnaire_linkids = sorted([item.linkId for item in mh_quest_download.item])\n",
    "compare_df_mh = pd.DataFrame({'PA-CSV': mh_csv_questionids, 'PA-FHIR Questionnaire': mh_questionnaire_linkids})\n"
   ]
  },
  {
   "cell_type": "code",
   "execution_count": 400,
   "metadata": {},
   "outputs": [],
   "source": [
    "#LOAD PHYSICAL ACTIVITY DATA INTO PY CLIENT MODEL:\n",
    "coded_qs = ['paq605', 'paq620', 'paq635', 'paq650', 'paq665']\n",
    "pa_questionnaire_responses = []\n",
    "looprange = range(0, len(pa_data))\n",
    "\n",
    "for i in looprange:    \n",
    "    #assign variables to questionnaire response resource elements:\n",
    "    #create py client questionnaire response\n",
    "    pa_qr = qr.QuestionnaireResponse({'status': 'completed', \n",
    "                                      'questionnaire': f'Questionnaire/{pa_quest_id}',\n",
    "                                      \"identifier\": {\n",
    "                                        \"system\": \"https://wwwn.cdc.gov/Nchs/Nhanes/2017-2018/PAQ_J.htm\",\n",
    "                                        \"value\": f'{str(int(pa_data.loc[i][1]))}'\n",
    "                                    }})    \n",
    "\n",
    "    response_items = []\n",
    "    #create questionnaire response items for each question, and item answers for each corresponding answer\n",
    "    for question_id in pa_csv_questionids:\n",
    "        qr_item = qr.QuestionnaireResponseItem()\n",
    "        qr_item.linkId = question_id.upper()\n",
    "        #answerItem:\n",
    "        #check if Answer for this item is available, if not Skip, we do not add answerItem\n",
    "        if str(pa_data.loc[i][question_id]) != 'nan':\n",
    "            if question_id in coded_qs:\n",
    "                qr_item_answer = qr.QuestionnaireResponseItemAnswer()\n",
    "                qr_item_answer.valueCoding = c.Coding()\n",
    "                qr_item_answer.valueCoding.code = str(str(pa_data.loc[i][question_id]))\n",
    "            else:    \n",
    "                qr_item_answer = qr.QuestionnaireResponseItemAnswer()\n",
    "                qr_item_answer.valueInteger = int(int(pa_data.loc[i][question_id]))\n",
    "\n",
    "            qr_item.answer = [qr_item_answer]\n",
    "\n",
    "            #add the question text to `qr_item.question`\n",
    "            for j in range(0, len(pa_quest_download.item)):\n",
    "                find_id = pa_quest_download.item[j].linkId\n",
    "                if find_id == question_id.upper():\n",
    "                    qr_item.text = pa_quest_download.item[j].text\n",
    "\n",
    "            #add to response list:\n",
    "            response_items.append(qr_item)\n",
    "    \n",
    "    pa_qr.item = response_items\n",
    "    pa_questionnaire_responses.append(pa_qr)\n",
    "    continue\n"
   ]
  },
  {
   "cell_type": "code",
   "execution_count": 401,
   "metadata": {},
   "outputs": [],
   "source": [
    "#LOAD MENTAL HEALTH DATA INTO PY CLIENT MODEL:\n",
    "\n",
    "mh_questionnaire_responses = []\n",
    "looprange = range(0, len(dpq_data))\n",
    "for i in looprange:\n",
    "    \n",
    "    #assign variables to questionnaire response resource elements:\n",
    "    #create py client questionnaire response\n",
    "    mh_qr = qr.QuestionnaireResponse({'status': 'completed', 'questionnaire': f'Questionnaire/{mh_quest_id}', \n",
    "                                      \"identifier\": {\n",
    "                                            \"system\": \"https://wwwn.cdc.gov/Nchs/Nhanes/2017-2018/DPQ_J.htm\",\n",
    "                                            \"value\": f'{str(int(dpq_data.loc[i][1]))}'\n",
    "                                        }})\n",
    "\n",
    "    \n",
    "    response_items = []\n",
    "\n",
    "    #create questionnaire response items for each question, and item answers for each corresponding answer\n",
    "    for question_id in mh_csv_questionids:\n",
    "        qr_item = qr.QuestionnaireResponseItem()\n",
    "        qr_item.linkId = question_id.upper()\n",
    "        #answerItem:\n",
    "        #check if Answer for this item is available, if not Skip, we do not add answerItem\n",
    "        if str(dpq_data.loc[i][question_id]) == 'nan':\n",
    "            #skipped!\n",
    "            continue \n",
    "            \n",
    "        qr_item_answer = qr.QuestionnaireResponseItemAnswer()\n",
    "        qr_item_answer.valueCoding = c.Coding()\n",
    "        qr_item_answer.valueCoding.code = str(str(dpq_data.loc[i][question_id]))\n",
    "        \n",
    "        qr_item.answer = [qr_item_answer]\n",
    "        \n",
    "        #add the question text to `qr_item.question`\n",
    "        for j in range(0, len(mh_quest_download.item)):\n",
    "            find_id = mh_quest_download.item[j].linkId\n",
    "            if find_id == question_id.upper():\n",
    "                qr_item.text = mh_quest_download.item[j].text\n",
    "        \n",
    "        \n",
    "        #add to response list:\n",
    "        response_items.append(qr_item)\n",
    "        \n",
    "    \n",
    "    \n",
    "    mh_qr.item = response_items\n",
    "    mh_questionnaire_responses.append(mh_qr)\n",
    "    continue\n",
    "    "
   ]
  },
  {
   "cell_type": "code",
   "execution_count": 402,
   "metadata": {},
   "outputs": [],
   "source": [
    "#save each physical activity questionnaire response to a json file on local disk:\n",
    "for i in range(0, len(pa_questionnaire_responses)):\n",
    "    savetofile(pa_questionnaire_responses[i].as_json(), 'pa_questionnaire_responses/qr_'+str(int(pa_data.loc[i][1]))+'.json')\n"
   ]
  },
  {
   "cell_type": "code",
   "execution_count": 403,
   "metadata": {},
   "outputs": [],
   "source": [
    "#save each mental health questionnaire response to a json file on local disk:\n",
    "for i in range(0, len(mh_questionnaire_responses)):\n",
    "    savetofile(mh_questionnaire_responses[i].as_json(), 'mh_questionnaire_responses/qr_'+str(int(dpq_data.loc[i][1]))+'.json')\n"
   ]
  },
  {
   "cell_type": "code",
   "execution_count": 404,
   "metadata": {},
   "outputs": [
    {
     "name": "stdout",
     "output_type": "stream",
     "text": [
      "661151\n"
     ]
    }
   ],
   "source": [
    "# Upload physical activity questionnaire response to Server and print returned ID\n",
    "pa_response_load = qr.QuestionnaireResponse.create(pa_questionnaire_responses[0], smart)\n",
    "pa_response_id = pa_response_load[\"id\"]\n",
    "print(pa_response_id)\n"
   ]
  },
  {
   "cell_type": "code",
   "execution_count": 405,
   "metadata": {},
   "outputs": [
    {
     "name": "stdout",
     "output_type": "stream",
     "text": [
      "661152\n"
     ]
    }
   ],
   "source": [
    "# Upload mental health questionnaire response to Server and print returned ID\n",
    "mh_response_load = qr.QuestionnaireResponse.create(mh_questionnaire_responses[0], smart)\n",
    "mh_response_id = mh_response_load[\"id\"]\n",
    "print(mh_response_id)\n"
   ]
  },
  {
   "cell_type": "code",
   "execution_count": null,
   "metadata": {},
   "outputs": [],
   "source": []
  },
  {
   "cell_type": "code",
   "execution_count": 406,
   "metadata": {},
   "outputs": [
    {
     "name": "stdout",
     "output_type": "stream",
     "text": [
      "{'identifier': {'system': 'https://wwwn.cdc.gov/Nchs/Nhanes/2017-2018/PAQ_J.htm', 'value': '93705'}, 'item': [{'answer': [{'valueInteger': 60}], 'linkId': 'PAD675', 'text': 'How much time {do you/does SP} spend doing moderate-intensity sports, fitness or recreational activities on a typical day?'}, {'answer': [{'valueInteger': 300}], 'linkId': 'PAD680', 'text': 'The following question is about sitting at school, at home, getting to and from places, or with friends including time spent sitting at a desk, traveling in a car or bus, reading, playing cards, watching television, or using a computer. Do not include time spent sleeping. How much time {do you/does SP} usually spend sitting on a typical day?'}, {'answer': [{'valueCoding': {'code': '2.0'}}], 'linkId': 'PAQ605', 'text': \"Next I am going to ask you about the time {you spend/SP spends} doing different types of physical activity in a typical week. Think first about the time {you spend/he spends/she spends} doing work. Think of work as the things that {you have/he has/she has} to do such as paid or unpaid work, household chores, and yard work. Does {your/SP's} work involve vigorous-intensity activity that causes large increases in breathing or heart rate like carrying or lifting heavy loads, digging or construction work for at least 10 minutes continuously?\"}, {'answer': [{'valueCoding': {'code': '2.0'}}], 'linkId': 'PAQ620', 'text': \"Does {your/SP's} work involve moderate-intensity activity that causes small increases in breathing or heart rate such as brisk walking or carrying light loads for at least 10 minutes continuously?\"}, {'answer': [{'valueCoding': {'code': '2.0'}}], 'linkId': 'PAQ635', 'text': 'The next questions exclude the physical activity at work that you have already mentioned. Now I would like to ask you about the usual way {you travel/SP travels} to and from places. For example to school, for shopping, to work. In a typical week {do you/does SP} walk or use a bicycle for at least 10 minutes continuously to get to and from places?'}, {'answer': [{'valueCoding': {'code': '2.0'}}], 'linkId': 'PAQ650', 'text': 'The next questions exclude the work and transport activities that you have already mentioned. Now I would like to ask you about sports, fitness and recreational activities. In a typical week {do you/does SP} do any vigorous-intensity sports, fitness, or recreational activities that cause large increases in breathing or heart rate like running or basketball for at least 10 minutes continuously?'}, {'answer': [{'valueCoding': {'code': '1.0'}}], 'linkId': 'PAQ665', 'text': 'In a typical week {do you/does SP} do any moderate-intensity sports, fitness, or recreational activities that cause a small increase in breathing or heart rate such as brisk walking, bicycling, swimming, or volleyball for at least 10 minutes continuously?'}, {'answer': [{'valueInteger': 2}], 'linkId': 'PAQ670', 'text': 'In a typical week, on how many days {do you/does SP} do moderate-intensity sports, fitness or recreational activities?'}], 'questionnaire': 'Questionnaire/661150', 'status': 'completed', 'resourceType': 'QuestionnaireResponse'}\n",
      "\n",
      "{'identifier': {'system': 'https://wwwn.cdc.gov/Nchs/Nhanes/2017-2018/DPQ_J.htm', 'value': '93705'}, 'item': [{'answer': [{'valueCoding': {'code': '0.0'}}], 'linkId': 'DPQ010', 'text': 'Over the last 2 weeks, how often have you been bothered by the following problems: little interest or pleasure in doing things? Would you say...'}, {'answer': [{'valueCoding': {'code': '0.0'}}], 'linkId': 'DPQ020', 'text': '[Over the last 2 weeks, how often have you been bothered by the following problems:] feeling down, depressed, or hopeless?'}, {'answer': [{'valueCoding': {'code': '0.0'}}], 'linkId': 'DPQ030', 'text': '[Over the last 2 weeks, how often have you been bothered by the following problems:] trouble falling or staying asleep, or sleeping too much?'}, {'answer': [{'valueCoding': {'code': '0.0'}}], 'linkId': 'DPQ040', 'text': '[Over the last 2 weeks, how often have you been bothered by the following problems:] feeling tired or having little energy?'}, {'answer': [{'valueCoding': {'code': '0.0'}}], 'linkId': 'DPQ050', 'text': '[Over the last 2 weeks, how often have you been bothered by the following problems:] poor appetite or overeating?'}, {'answer': [{'valueCoding': {'code': '0.0'}}], 'linkId': 'DPQ060', 'text': '[Over the last 2 weeks, how often have you been bothered by the following problems:] feeling bad about yourself - or that you are a failure or have let yourself or your family down?'}, {'answer': [{'valueCoding': {'code': '0.0'}}], 'linkId': 'DPQ070', 'text': '[Over the last 2 weeks, how often have you been bothered by the following problems:] trouble concentrating on things, such as reading the newspaper or watching TV?'}, {'answer': [{'valueCoding': {'code': '0.0'}}], 'linkId': 'DPQ080', 'text': '[Over the last 2 weeks, how often have you been bothered by the following problems:] moving or speaking so slowly that other people could have noticed? Or the opposite - being so fidgety or restless that you have been moving around a lot more than usual?'}, {'answer': [{'valueCoding': {'code': '0.0'}}], 'linkId': 'DPQ090', 'text': '[Over the last 2 weeks, how often have you been bothered by the following problems:] Thoughts that you would be better off dead or of hurting yourself in some way?'}], 'questionnaire': 'Questionnaire/661149', 'status': 'completed', 'resourceType': 'QuestionnaireResponse'}\n"
     ]
    }
   ],
   "source": [
    "#print example questionnaire responses\n",
    "print(pa_questionnaire_responses[0].as_json())\n",
    "print(\"\")\n",
    "print(mh_questionnaire_responses[0].as_json())\n"
   ]
  },
  {
   "cell_type": "code",
   "execution_count": 412,
   "metadata": {},
   "outputs": [],
   "source": [
    "#pa mh questionnaires as ndjson for testing:\n",
    "with open('questionnaires.ndjson', 'a') as all_flat:\n",
    "    json.dump(pa_questionnaire.as_json(), all_flat)\n",
    "    all_flat.write(\"\\n\")\n",
    "    json.dump(mh_questionnaire.as_json(), all_flat)\n",
    "    all_flat.write(\"\\n\")\n",
    "    "
   ]
  },
  {
   "cell_type": "code",
   "execution_count": 413,
   "metadata": {},
   "outputs": [],
   "source": [
    "#pa responses, mh responses as ndjson for testing:\n",
    "with open('qr_responses.ndjson', 'a') as all_flat:\n",
    "    for i in mh_questionnaire_responses:\n",
    "        json.dump(i.as_json(), all_flat)\n",
    "        all_flat.write(\"\\n\")\n",
    "    for i in pa_questionnaire_responses:\n",
    "        json.dump(i.as_json(), all_flat)\n",
    "        all_flat.write(\"\\n\")"
   ]
  },
  {
   "cell_type": "code",
   "execution_count": 407,
   "metadata": {},
   "outputs": [],
   "source": [
    "#pa responses, mh responses, and questionnaires as ndjson for testing:\n",
    "with open('all_data_flat.ndjson', 'a') as all_flat:\n",
    "    json.dump(pa_questionnaire.as_json(), all_flat)\n",
    "    all_flat.write(\"\\n\")\n",
    "    json.dump(mh_questionnaire.as_json(), all_flat)\n",
    "    all_flat.write(\"\\n\")\n",
    "    for i in mh_questionnaire_responses:\n",
    "        json.dump(i.as_json(), all_flat)\n",
    "        all_flat.write(\"\\n\")\n",
    "    for i in pa_questionnaire_responses:\n",
    "        json.dump(i.as_json(), all_flat)\n",
    "        all_flat.write(\"\\n\")\n",
    "    "
   ]
  },
  {
   "cell_type": "code",
   "execution_count": 408,
   "metadata": {},
   "outputs": [],
   "source": [
    "#pa responses, mh responses, and questionnaires as txt for testing:\n",
    "with open('all_data_flat.txt', 'a') as all_flat:\n",
    "    json.dump(pa_questionnaire.as_json(), all_flat)\n",
    "    all_flat.write(\"\\n\")\n",
    "    json.dump(mh_questionnaire.as_json(), all_flat)\n",
    "    all_flat.write(\"\\n\")\n",
    "    for i in mh_questionnaire_responses:\n",
    "        json.dump(i.as_json(), all_flat)\n",
    "        all_flat.write(\"\\n\")\n",
    "    for i in pa_questionnaire_responses:\n",
    "        json.dump(i.as_json(), all_flat)\n",
    "        all_flat.write(\"\\n\")\n",
    "    "
   ]
  },
  {
   "cell_type": "code",
   "execution_count": 409,
   "metadata": {},
   "outputs": [
    {
     "data": {
      "text/plain": [
       "'\"contained\": [{\"id\": \"Physical-Activity-valueset-1\", \"compose\": {\"include\": [{\"concept\": [{\"code\": \"1\", \"display\": \"Yes\"}, {\"code\": \"2\", \"display\": \"No\"}, {\"code\": \"7\", \"display\": \"Refused\"}, {\"code\": \"9\", \"display\": \"Don\\'t Know\"}], \"system\": \"http://hl7.org/fhir/sid/icd-10\"}]}, \"description\": \"Physical-Activity Questionnaire Response Value Set 1\", \"name\": \"Physical-Activity ValueSet 1\", \"status\": \"active\", \"resourceType\": \"ValueSet\"}], \"code\": [{\"code\": \"PAQ_J\", \"display\": \"NHANES Physical Activity Questionnaire\", \"system\": \"https://wwwn.cdc.gov/Nchs/Nhanes/2017-2018/PAQ_J.htm\"}], \"date\": \"2020-02-01T00:00:00.000Z\", \"item\": [{\"answerValueSet\": \"#Physical-Activity-valueset-1\", \"linkId\": \"PAQ605\", \"text\": \"Next I am going to ask you about the time {you spend/SP spends} doing different types of physical activity in a typical week. Think first about the time {you spend/he spends/she spends} doing work. Think of work as the things that {you have/he has/she has} to do such as paid or unpaid work, household chores, and yard work. Does {your/SP\\'s} work involve vigorous-intensity activity that causes large increases in breathing or heart rate like carrying or lifting heavy loads, digging or construction work for at least 10 minutes continuously?\", \"type\": \"integer\"}, {\"extension\": [{\"url\": \"http://hl7.org/fhir/StructureDefinition/minValue\", \"valueInteger\": 1}, {\"url\": \"http://hl7.org/fhir/StructureDefinition/maxValue\", \"valueInteger\": 7}], \"code\": [{\"code\": \"q610\", \"display\": \"NHANES Physical Activity Questionnaire q610\", \"system\": \"https://wwwn.cdc.gov/Nchs/Nhanes/2017-2018/PAQ_J.htm\"}], \"linkId\": \"PAQ610\", \"text\": \"In a typical week, on how many days {do you/does SP} do vigorous-intensity activities as part of {your/his/her} work?\", \"type\": \"integer\"}, {\"extension\": [{\"url\": \"http://hl7.org/fhir/StructureDefinition/minValue\", \"valueInteger\": 10}, {\"url\": \"http://hl7.org/fhir/StructureDefinition/maxValue\", \"valueInteger\": 840}], \"code\": [{\"code\": \"q615\", \"display\": \"NHANES Physical Activity Questionnaire q615\", \"system\": \"https://wwwn.cdc.gov/Nchs/Nhanes/2017-2018/PAQ_J.htm\"}], \"linkId\": \"PAD615\", \"text\": \"How much time {do you/does SP} spend doing vigorous-intensity activities at work on a typical day?\", \"type\": \"integer\"}, {\"answerValueSet\": \"#Physical-Activity-valueset-1\", \"linkId\": \"PAQ620\", \"text\": \"Does {your/SP\\'s} work involve moderate-intensity activity that causes small increases in breathing or heart rate such as brisk walking or carrying light loads for at least 10 minutes continuously?\", \"type\": \"integer\"}, {\"extension\": [{\"url\": \"http://hl7.org/fhir/StructureDefinition/minValue\", \"valueInteger\": 1}, {\"url\": \"http://hl7.org/fhir/StructureDefinition/maxValue\", \"valueInteger\": 7}], \"code\": [{\"code\": \"q625\", \"display\": \"NHANES Physical Activity Questionnaire q625\", \"system\": \"https://wwwn.cdc.gov/Nchs/Nhanes/2017-2018/PAQ_J.htm\"}], \"linkId\": \"PAQ625\", \"text\": \"In a typical week, on how many days {do you/does SP} do moderate-intensity activities as part of {your/his/her} work?\", \"type\": \"integer\"}, {\"extension\": [{\"url\": \"http://hl7.org/fhir/StructureDefinition/minValue\", \"valueInteger\": 10}, {\"url\": \"http://hl7.org/fhir/StructureDefinition/maxValue\", \"valueInteger\": 840}], \"code\": [{\"code\": \"q630\", \"display\": \"NHANES Physical Activity Questionnaire q630\", \"system\": \"https://wwwn.cdc.gov/Nchs/Nhanes/2017-2018/PAQ_J.htm\"}], \"linkId\": \"PAD630\", \"text\": \"How much time {do you/does SP} spend doing moderate-intensity activities at work on a typical day?\", \"type\": \"integer\"}, {\"answerValueSet\": \"#Physical-Activity-valueset-1\", \"linkId\": \"PAQ635\", \"text\": \"The next questions exclude the physical activity at work that you have already mentioned. Now I would like to ask you about the usual way {you travel/SP travels} to and from places. For example to school, for shopping, to work. In a typical week {do you/does SP} walk or use a bicycle for at least 10 minutes continuously to get to and from places?\", \"type\": \"integer\"}, {\"extension\": [{\"url\": \"http://hl7.org/fhir/StructureDefinition/minValue\", \"valueInteger\": 1}, {\"url\": \"http://hl7.org/fhir/StructureDefinition/maxValue\", \"valueInteger\": 7}], \"code\": [{\"code\": \"q640\", \"display\": \"NHANES Physical Activity Questionnaire q640\", \"system\": \"https://wwwn.cdc.gov/Nchs/Nhanes/2017-2018/PAQ_J.htm\"}], \"linkId\": \"PAQ640\", \"text\": \"In a typical week, on how many days {do you/does SP} walk or bicycle for at least 10 minutes continuously to get to and from places?\", \"type\": \"integer\"},'"
      ]
     },
     "execution_count": 409,
     "metadata": {},
     "output_type": "execute_result"
    }
   ],
   "source": [
    "#import as ndJSON for validation\n",
    "\n",
    "import ndjson\n",
    "\n",
    "# Streaming lines from ndjson file:\n",
    "with open('all_data_flat.ndjson') as f:\n",
    "    data = ndjson.load(f)\n",
    "    \n",
    "text = ndjson.dumps(data)\n",
    "text[1:4500]"
   ]
  },
  {
   "cell_type": "code",
   "execution_count": null,
   "metadata": {},
   "outputs": [],
   "source": []
  },
  {
   "cell_type": "code",
   "execution_count": null,
   "metadata": {},
   "outputs": [],
   "source": []
  },
  {
   "cell_type": "code",
   "execution_count": null,
   "metadata": {},
   "outputs": [],
   "source": []
  },
  {
   "cell_type": "code",
   "execution_count": null,
   "metadata": {},
   "outputs": [],
   "source": []
  },
  {
   "cell_type": "code",
   "execution_count": null,
   "metadata": {},
   "outputs": [],
   "source": []
  }
 ],
 "metadata": {
  "kernelspec": {
   "display_name": "Python 3",
   "language": "python",
   "name": "python3"
  },
  "language_info": {
   "codemirror_mode": {
    "name": "ipython",
    "version": 3
   },
   "file_extension": ".py",
   "mimetype": "text/x-python",
   "name": "python",
   "nbconvert_exporter": "python",
   "pygments_lexer": "ipython3",
   "version": "3.8.3"
  }
 },
 "nbformat": 4,
 "nbformat_minor": 2
}
